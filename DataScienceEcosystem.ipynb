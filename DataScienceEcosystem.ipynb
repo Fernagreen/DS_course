{
 "cells": [
  {
   "cell_type": "markdown",
   "id": "fc3873d6-4c26-498c-b53f-b6dd3d73dd4a",
   "metadata": {},
   "source": [
    "#  Data Science Tools and Ecosystems"
   ]
  },
  {
   "cell_type": "markdown",
   "id": "46fa8d1a-1f52-48ba-a51d-6a63caf1e5c8",
   "metadata": {},
   "source": [
    "**GitHub link:** https://github.com/Fernagreen/DS_course.git"
   ]
  },
  {
   "cell_type": "markdown",
   "id": "717f02f8-bbe6-41d1-9dc1-5a6c13077b4d",
   "metadata": {},
   "source": [
    "In this notebook, Data Science Tools and Ecosystem are summarized."
   ]
  },
  {
   "cell_type": "markdown",
   "id": "ba810fb9-c194-4656-ac73-2a2651e4e893",
   "metadata": {},
   "source": [
    "Some of the popular languages that Data Scientists use are:\n",
    "1. Python\n",
    "2. R\n",
    "3. Julia"
   ]
  },
  {
   "cell_type": "markdown",
   "id": "376bbd23-24a2-4a13-89c2-043087a04c09",
   "metadata": {},
   "source": [
    "Some of the commonly used libraries used by Data Scientists include:\n",
    "1. dplyr\n",
    "2. ggplot\n",
    "3. caret"
   ]
  },
  {
   "cell_type": "markdown",
   "id": "caed1fd8-4dd5-4f8e-80f6-5d17b3026adc",
   "metadata": {},
   "source": [
    "|Data Sicence Tools|\n",
    "|---|\n",
    "|R-Studio|\n",
    "|JupiterNotebook|\n",
    "|Visual Studio Code|\n"
   ]
  },
  {
   "cell_type": "markdown",
   "id": "9c141f8d-3be5-497b-a1aa-997ee7ab4c67",
   "metadata": {},
   "source": [
    "Below are a few examples of evaluating arithmetic expressions in Python"
   ]
  },
  {
   "cell_type": "code",
   "execution_count": 3,
   "id": "429c9b7c-bbae-4475-a052-4fb570a5bb69",
   "metadata": {},
   "outputs": [
    {
     "data": {
      "text/plain": [
       "17"
      ]
     },
     "execution_count": 3,
     "metadata": {},
     "output_type": "execute_result"
    }
   ],
   "source": [
    "#  This a simple arithmetic expression to mutiply then add integers\n",
    "(3*4)+5"
   ]
  },
  {
   "cell_type": "code",
   "execution_count": 4,
   "id": "84eb9dc0-5bf6-4fc2-9a4d-d061c34b0361",
   "metadata": {},
   "outputs": [
    {
     "name": "stdout",
     "output_type": "stream",
     "text": [
      "200 minutes is 3.3333333333333335 hours\n"
     ]
    }
   ],
   "source": [
    "# This will convert 200 minutes to hours by diving by 60\n",
    "minutes = 200\n",
    "hours = minutes*(1/60) \n",
    "\n",
    "print('200 minutes is', hours, 'hours')"
   ]
  },
  {
   "cell_type": "markdown",
   "id": "60cfc3aa-c1d0-4bd6-9802-e9d971f315a0",
   "metadata": {},
   "source": [
    "**Objectives:**\n",
    "- List popular languages for Data Sciences\n",
    "- Learn to use Juyter Notebooks\n",
    "- Learn about R and R Studio\n",
    "- Learns to the GitHub functionallity and how to use it"
   ]
  },
  {
   "cell_type": "markdown",
   "id": "487aed31-fe8e-4c19-8303-5cd5ae76aaaa",
   "metadata": {},
   "source": [
    "## Author:\n",
    "Fernanda Alvarez-Carrascal"
   ]
  }
 ],
 "metadata": {
  "kernelspec": {
   "display_name": "Python [conda env:base] *",
   "language": "python",
   "name": "conda-base-py"
  },
  "language_info": {
   "codemirror_mode": {
    "name": "ipython",
    "version": 3
   },
   "file_extension": ".py",
   "mimetype": "text/x-python",
   "name": "python",
   "nbconvert_exporter": "python",
   "pygments_lexer": "ipython3",
   "version": "3.13.5"
  }
 },
 "nbformat": 4,
 "nbformat_minor": 5
}
